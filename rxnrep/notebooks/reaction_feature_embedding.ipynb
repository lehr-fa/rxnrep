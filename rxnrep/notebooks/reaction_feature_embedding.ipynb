{
 "cells": [
  {
   "cell_type": "markdown",
   "metadata": {},
   "source": [
    "# Embed reaction features \n",
    "\n",
    "Get reaction features from pretrained models and analyze the embedding.  "
   ]
  },
  {
   "cell_type": "code",
   "execution_count": 1,
   "metadata": {},
   "outputs": [
    {
     "name": "stderr",
     "output_type": "stream",
     "text": [
      "Using backend: pytorch\n"
     ]
    }
   ],
   "source": [
    "from monty.serialization import loadfn\n",
    "from rxnrep.data.electrolyte import pymatgen_reaction_to_reaction\n",
    "from rxnrep.prediction.predict import get_prediction"
   ]
  },
  {
   "cell_type": "markdown",
   "metadata": {},
   "source": [
    "### get predictions and reactions"
   ]
  },
  {
   "cell_type": "code",
   "execution_count": 2,
   "metadata": {},
   "outputs": [],
   "source": [
    "model_path = \"/Users/mjwen/Applications/rxnrep/rxnrep/scripts\"\n",
    "dataset_filename = \"/Users/mjwen/Documents/Dataset/rxnrep/reactions_n2000_test.json\"\n",
    "\n",
    "reactions = loadfn(dataset_filename)\n",
    "predictions = get_prediction(\n",
    "    model_path, dataset_filename, model_name=\"electrolyte_two_bond_types\"\n",
    ")"
   ]
  },
  {
   "cell_type": "code",
   "execution_count": 3,
   "metadata": {},
   "outputs": [
    {
     "name": "stdout",
     "output_type": "stream",
     "text": [
      "Number failed: 0\n",
      "Number succeeded: 24\n"
     ]
    }
   ],
   "source": [
    "succeeded = []\n",
    "failed = []\n",
    "for rxn, pred in zip(reactions, predictions):\n",
    "    if pred is None:\n",
    "        failed.append(rxn)\n",
    "    else:\n",
    "        succeeded.append((rxn, pred))\n",
    "\n",
    "print(\"Number failed:\", len(failed))\n",
    "print(\"Number succeeded:\", len(succeeded))"
   ]
  },
  {
   "cell_type": "code",
   "execution_count": 4,
   "metadata": {},
   "outputs": [
    {
     "name": "stdout",
     "output_type": "stream",
     "text": [
      "(320,)\n",
      "(33,)\n"
     ]
    }
   ],
   "source": [
    "rxn0, pred0 = succeeded[0]\n",
    "print(pred0[\"before_decoder\"].shape)\n",
    "print(pred0[\"after_decoder\"].shape)"
   ]
  },
  {
   "cell_type": "code",
   "execution_count": null,
   "metadata": {},
   "outputs": [],
   "source": []
  }
 ],
 "metadata": {
  "kernelspec": {
   "display_name": "Python 3",
   "language": "python",
   "name": "python3"
  },
  "language_info": {
   "codemirror_mode": {
    "name": "ipython",
    "version": 3
   },
   "file_extension": ".py",
   "mimetype": "text/x-python",
   "name": "python",
   "nbconvert_exporter": "python",
   "pygments_lexer": "ipython3",
   "version": "3.8.5"
  }
 },
 "nbformat": 4,
 "nbformat_minor": 4
}
