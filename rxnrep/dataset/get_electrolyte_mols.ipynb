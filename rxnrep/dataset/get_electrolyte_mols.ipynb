{
 "cells": [
  {
   "cell_type": "code",
   "execution_count": 1,
   "metadata": {},
   "outputs": [],
   "source": [
    "from typing import List\n",
    "\n",
    "from atomate.qchem.database import QChemCalcDb\n",
    "from monty.serialization import dumpfn, loadfn\n",
    "from mrnet.core.mol_entry import MoleculeEntry, MoleculeEntryError\n",
    "\n",
    "from rxnrep.dataset.electrolyte_utils import (\n",
    "    check_species,\n",
    "    check_connectivity,\n",
    "    check_bond_species,\n",
    "    check_bond_length,\n",
    "    check_num_bonds,\n",
    "    check_bad_rdkit_molecule,\n",
    "    remove_high_energy_mol_entries,\n",
    ")"
   ]
  },
  {
   "cell_type": "code",
   "execution_count": 2,
   "metadata": {},
   "outputs": [],
   "source": [
    "def get_db_num_entries(db_file):\n",
    "    db = QChemCalcDb.from_db_file(db_file, admin=True)\n",
    "    return db.collection.count_documents({})"
   ]
  },
  {
   "cell_type": "code",
   "execution_count": 3,
   "metadata": {},
   "outputs": [],
   "source": [
    "def query_db_entries(db_file, num_entries: int = None, environment: str = None):\n",
    "    \"\"\"\n",
    "    Query the molecule document database to pull all the molecules form molecule builder.\n",
    "\n",
    "    Args:\n",
    "        db_file: path to a json file storing credentials of the database\n",
    "        num_entries (int): the number of entries to query, if `None`, get all.\n",
    "        environment: query value for the environment key in the db. e.g. `smd_thf`. if `None`, ignore it.\n",
    "        \n",
    "    Returns:\n",
    "        A list of molecule document entries.\n",
    "    \"\"\"\n",
    "\n",
    "    num_entries = 0 if num_entries is None else num_entries\n",
    "    query = {} if environment is None else {\"environment\": environment}\n",
    "\n",
    "    db = QChemCalcDb.from_db_file(db_file, admin=True)\n",
    "    cursor = db.collection.find(query, no_cursor_timeout=True).limit(num_entries)\n",
    "    entries = [i for i in cursor]\n",
    "\n",
    "    cursor.close()\n",
    "\n",
    "    return entries"
   ]
  },
  {
   "cell_type": "code",
   "execution_count": 4,
   "metadata": {},
   "outputs": [],
   "source": [
    "def filter_connectivity(entries, verbose=False):\n",
    "    \"\"\"\n",
    "    remove mols having atoms not connected to others \n",
    "    \"\"\"\n",
    "    succeeded = []\n",
    "    for m in entries:\n",
    "        fail, comment = check_connectivity(m)\n",
    "        if fail:\n",
    "            if verbose:\n",
    "                print(m.entry_id, comment)\n",
    "        else:\n",
    "            succeeded.append(m)\n",
    "\n",
    "    return succeeded\n",
    "\n",
    "\n",
    "def filter_species(entries, not_allowed_species=None, verbose=False):\n",
    "    \"\"\"\n",
    "    remove mols with specific species\n",
    "    \"\"\"\n",
    "    not_allowed_species = [\"P\"] if not_allowed_species is None else not_allowed_species\n",
    "\n",
    "    succeeded = []\n",
    "    for m in entries:\n",
    "        fail, comment = check_species(m, species=not_allowed_species)\n",
    "        if fail:\n",
    "            if verbose:\n",
    "                print(m.entry_id, comment)\n",
    "        else:\n",
    "            succeeded.append(m)\n",
    "\n",
    "    return succeeded\n",
    "\n",
    "\n",
    "def filter_bond_species(entries, verbose=False):\n",
    "    \"\"\"\n",
    "    remove mols with specific bond between species, e.g. Li-H\n",
    "    \"\"\"\n",
    "    succeeded = []\n",
    "    for m in entries:\n",
    "        fail, comment = check_bond_species(m)\n",
    "        if fail:\n",
    "            if verbose:\n",
    "                print(m.entry_id, comment)\n",
    "        else:\n",
    "            succeeded.append(m)\n",
    "\n",
    "    return succeeded\n",
    "\n",
    "\n",
    "def filter_bond_length(entries, verbose=False):\n",
    "    \"\"\"\n",
    "    remove mols with larger bond length    \n",
    "    \"\"\"\n",
    "    succeeded = []\n",
    "    for m in entries:\n",
    "        fail, comment = check_bond_length(m)\n",
    "        if fail:\n",
    "            if verbose:\n",
    "                print(m.entry_id, comment)\n",
    "        else:\n",
    "            succeeded.append(m)\n",
    "\n",
    "    return succeeded\n",
    "\n",
    "\n",
    "def filter_num_bonds(entries, verbose=False):\n",
    "    \"\"\"\n",
    "    remove mols with unexpected number of bonds (e.g. more than 4 bonds for carbon),\n",
    "    without considering metal species \n",
    "    \"\"\"\n",
    "    succeeded = []\n",
    "    for m in entries:\n",
    "        fail, comment = check_num_bonds(m)\n",
    "        if fail:\n",
    "            if verbose:\n",
    "                print(m.entry_id, comment)\n",
    "        else:\n",
    "            succeeded.append(m)\n",
    "\n",
    "    return succeeded\n",
    "\n",
    "\n",
    "def filter_bad_rdkit_mol(entries, verbose=False):\n",
    "    \"\"\"\n",
    "    remove mols that cannot be converted to rdkit mol\n",
    "    \"\"\"\n",
    "    succeeded = []\n",
    "    for m in entries:\n",
    "        fail, comment = check_bad_rdkit_molecule(m)\n",
    "        if fail:\n",
    "            if verbose:\n",
    "                print(m.entry_id, comment)\n",
    "        else:\n",
    "            succeeded.append(m)\n",
    "\n",
    "    return succeeded\n",
    "\n",
    "\n",
    "def filter_mol_entries(\n",
    "    entries: List[MoleculeEntry], verbose=False\n",
    ") -> List[MoleculeEntry]:\n",
    "    \"\"\"\n",
    "    Filter out some `bad` molecules. \n",
    "    \"\"\"\n",
    "    print(\"Number of starting entries:\", len(entries))\n",
    "\n",
    "    # for molecules with the same isomorphism and charge, remove the ones with higher free energy\n",
    "    entries = remove_high_energy_mol_entries(entries)\n",
    "    print(\"Number of entries after removing isomorphic ones:\", len(entries))\n",
    "\n",
    "    entries = filter_connectivity(entries, verbose)\n",
    "    print(\"Number of entries after (filter_connectivity):\", len(entries))\n",
    "\n",
    "    entries = filter_species(entries, verbose=verbose)\n",
    "    print(\"Number of entries after (filter_species):\", len(entries))\n",
    "\n",
    "    entries = filter_num_bonds(entries, verbose)\n",
    "    print(\"Number of entries after (filter_num_bonds):\", len(entries))\n",
    "\n",
    "    entries = filter_bond_species(entries, verbose)\n",
    "    print(\"Number of entries after (filter_bond_species):\", len(entries))\n",
    "\n",
    "    entries = filter_bond_length(entries, verbose)\n",
    "    print(\"Number of entries after (filter_bond_length):\", len(entries))\n",
    "\n",
    "    entries = filter_bad_rdkit_mol(entries, verbose)\n",
    "    print(\"Number of entries after (filter_bad_rdit_mol):\", len(entries))\n",
    "\n",
    "    return entries"
   ]
  },
  {
   "cell_type": "markdown",
   "metadata": {},
   "source": [
    "### Query db to get molecule documents "
   ]
  },
  {
   "cell_type": "code",
   "execution_count": 5,
   "metadata": {},
   "outputs": [
    {
     "data": {
      "text/plain": [
       "16718"
      ]
     },
     "execution_count": 5,
     "metadata": {},
     "output_type": "execute_result"
    }
   ],
   "source": [
    "db_file = \"/Users/mjwen/Applications/db_access/sam_db/sam_db_mol_builder.json\"\n",
    "get_db_num_entries(db_file)"
   ]
  },
  {
   "cell_type": "code",
   "execution_count": 6,
   "metadata": {},
   "outputs": [],
   "source": [
    "num_entries = 2000\n",
    "# num_entries = None\n",
    "mol_docs = query_db_entries(db_file, num_entries)"
   ]
  },
  {
   "cell_type": "markdown",
   "metadata": {},
   "source": [
    "### dump to file "
   ]
  },
  {
   "cell_type": "code",
   "execution_count": 7,
   "metadata": {},
   "outputs": [
    {
     "name": "stdout",
     "output_type": "stream",
     "text": [
      "Number of mol doc failed to be converted to mol entry: 5\n",
      "Number of starting entries: 1995\n",
      "Number of entries after removing isomorphic ones: 1135\n",
      "Number of entries after (filter_connectivity): 1135\n",
      "Number of entries after (filter_species): 1130\n",
      "Number of entries after (filter_num_bonds): 1113\n",
      "Number of entries after (filter_bond_species): 1112\n",
      "Number of entries after (filter_bond_length): 1092\n"
     ]
    },
    {
     "name": "stderr",
     "output_type": "stream",
     "text": [
      "RDKit ERROR: [22:16:14] Explicit valence for atom # 3 C, 5, is greater than permitted\n"
     ]
    },
    {
     "name": "stdout",
     "output_type": "stream",
     "text": [
      "Number of entries after (filter_bad_rdit_mol): 1091\n"
     ]
    }
   ],
   "source": [
    "num_failed = 0\n",
    "mol_entries = []\n",
    "for doc in mol_docs:\n",
    "    try:\n",
    "        entry = MoleculeEntry.from_molecule_document(doc)\n",
    "        mol_entries.append(entry)\n",
    "    except MoleculeEntryError:\n",
    "        num_failed += 1\n",
    "print(\"Number of mol doc failed to be converted to mol entry:\", num_failed)\n",
    "\n",
    "# filter\n",
    "mol_entries = filter_mol_entries(mol_entries, verbose=False)\n",
    "\n",
    "# dump to file\n",
    "fname = f\"/Users/mjwen/Documents/Dataset/electrolyte/mol_entries_n{num_entries}.json\"\n",
    "dumpfn(mol_entries, fname)"
   ]
  },
  {
   "cell_type": "code",
   "execution_count": null,
   "metadata": {},
   "outputs": [],
   "source": []
  }
 ],
 "metadata": {
  "kernelspec": {
   "display_name": "Python 3",
   "language": "python",
   "name": "python3"
  },
  "language_info": {
   "codemirror_mode": {
    "name": "ipython",
    "version": 3
   },
   "file_extension": ".py",
   "mimetype": "text/x-python",
   "name": "python",
   "nbconvert_exporter": "python",
   "pygments_lexer": "ipython3",
   "version": "3.8.5"
  }
 },
 "nbformat": 4,
 "nbformat_minor": 4
}
