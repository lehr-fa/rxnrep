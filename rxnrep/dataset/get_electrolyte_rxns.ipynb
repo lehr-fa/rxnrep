{
 "cells": [
  {
   "cell_type": "markdown",
   "metadata": {},
   "source": [
    "# Extreact reactions from mol entries"
   ]
  },
  {
   "cell_type": "code",
   "execution_count": 1,
   "metadata": {},
   "outputs": [],
   "source": [
    "from pymatgen.reaction_network.reaction import bucket_mol_entries, unbucket_mol_entries\n",
    "from pymatgen.reaction_network.reaction import IntramolSingleBondChangeReaction, IntermolecularReaction\n",
    "from monty.serialization import dumpfn, loadfn"
   ]
  },
  {
   "cell_type": "markdown",
   "metadata": {},
   "source": [
    "### Load molecule entries "
   ]
  },
  {
   "cell_type": "code",
   "execution_count": 2,
   "metadata": {},
   "outputs": [
    {
     "name": "stdout",
     "output_type": "stream",
     "text": [
      "number of mol entries loaded: 862\n"
     ]
    }
   ],
   "source": [
    "num_entries=2000\n",
    "fname = f'/Users/mjwen/Documents/Dataset/rxnrep/mol_entries_n{num_entries}.json'\n",
    "\n",
    "mol_entries = loadfn(fname)\n",
    "\n",
    "print('number of mol entries loaded:', len(mol_entries))"
   ]
  },
  {
   "cell_type": "markdown",
   "metadata": {},
   "source": [
    "### Intra-molecular bond breaking reactions, i.e. A->B"
   ]
  },
  {
   "cell_type": "code",
   "execution_count": 3,
   "metadata": {},
   "outputs": [
    {
     "name": "stderr",
     "output_type": "stream",
     "text": [
      "/Users/mjwen/Applications/pymatgen/pymatgen/reaction_network/reaction.py:2775: FutureWarning: Nbonds is deprecated\n",
      "`Nbonds` is replaced by `num_bonds`. This will be removed shortly.\n",
      "  v = getattr(m, k)\n",
      "/Users/mjwen/Applications/pymatgen/pymatgen/reaction_network/reaction.py:689: FutureWarning: edges is deprecated\n",
      "`edges` is replaced by `bonds`. This will be removed shortly.\n",
      "  for edge in entry1.edges:\n"
     ]
    },
    {
     "data": {
      "text/plain": [
       "71"
      ]
     },
     "execution_count": 3,
     "metadata": {},
     "output_type": "execute_result"
    }
   ],
   "source": [
    "buckets = bucket_mol_entries(mol_entries)\n",
    "intra_mol_reactions, _ = IntramolSingleBondChangeReaction.generate(buckets)\n",
    "len(intra_mol_reactions)"
   ]
  },
  {
   "cell_type": "markdown",
   "metadata": {},
   "source": [
    "### Inter-molecular bond breaking reactions, i.e. A->B+C"
   ]
  },
  {
   "cell_type": "code",
   "execution_count": 4,
   "metadata": {},
   "outputs": [
    {
     "name": "stderr",
     "output_type": "stream",
     "text": [
      "/Users/mjwen/Applications/pymatgen/pymatgen/reaction_network/reaction.py:975: FutureWarning: edges is deprecated\n",
      "`edges` is replaced by `bonds`. This will be removed shortly.\n",
      "  for edge in entry.edges:\n"
     ]
    },
    {
     "data": {
      "text/plain": [
       "36"
      ]
     },
     "execution_count": 4,
     "metadata": {},
     "output_type": "execute_result"
    }
   ],
   "source": [
    "buckets = bucket_mol_entries(mol_entries)\n",
    "inter_mol_reactions, _ = IntermolecularReaction.generate(buckets)\n",
    "len(inter_mol_reactions)"
   ]
  },
  {
   "cell_type": "markdown",
   "metadata": {},
   "source": [
    "### write reactions to file (pymatgen reactions)"
   ]
  },
  {
   "cell_type": "code",
   "execution_count": 5,
   "metadata": {},
   "outputs": [],
   "source": [
    "reactions = intra_mol_reactions + inter_mol_reactions\n",
    "\n",
    "fname = f'/Users/mjwen/Documents/Dataset/rxnrep/reactions_n{num_entries}.json'\n",
    "dumpfn(reactions, fname)"
   ]
  },
  {
   "cell_type": "code",
   "execution_count": null,
   "metadata": {},
   "outputs": [],
   "source": []
  }
 ],
 "metadata": {
  "kernelspec": {
   "display_name": "Python 3",
   "language": "python",
   "name": "python3"
  },
  "language_info": {
   "codemirror_mode": {
    "name": "ipython",
    "version": 3
   },
   "file_extension": ".py",
   "mimetype": "text/x-python",
   "name": "python",
   "nbconvert_exporter": "python",
   "pygments_lexer": "ipython3",
   "version": "3.8.5"
  }
 },
 "nbformat": 4,
 "nbformat_minor": 4
}
