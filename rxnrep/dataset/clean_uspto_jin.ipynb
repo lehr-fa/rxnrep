{
 "cells": [
  {
   "cell_type": "markdown",
   "metadata": {},
   "source": [
    "# Clean the USPTO dataset processed by Jin\n",
    "\n",
    "The dataset is used in the two papers: \n",
    "- Predicting Organic Reaction Outcomes with Weisfeiler-Lehman Network\n",
    "- A graph-convolutional neural network model for the prediction of chemical reactivity\n",
    "\n",
    "They can be obtained from:\n",
    "- https://github.com/wengong-jin/nips17-rexgen/tree/master/USPTO\n",
    "- https://github.com/connorcoley/rexgen_direct/tree/master/rexgen_direct\n"
   ]
  },
  {
   "cell_type": "code",
   "execution_count": 1,
   "metadata": {},
   "outputs": [],
   "source": [
    "import multiprocessing\n",
    "import numpy as np\n",
    "import pandas as pd\n",
    "from rdkit import Chem\n",
    "from rdkit.Chem import AllChem\n",
    "from rxnrep.dataset.rdkit_utils import (\n",
    "    check_all_reactions_atom_mapped, check_all_reactions_bonds_mapped,\n",
    "    adjust_reagents, adjust_atom_map_number, get_reaction_bond_change,\n",
    "    set_all_H_to_explicit, edit_molecule, MoleculeCreationError,\n",
    "    AtomMapNumberError, get_atom_property_as_dict)\n",
    "from rxnrep.utils import to_path\n",
    "from rdkit import RDLogger\n",
    "from rdkit.Chem import KekulizeException, AtomValenceException, AtomKekulizeException\n",
    "from typing import Union, Tuple, List\n",
    "\n",
    "RDLogger.logger().setLevel(RDLogger.CRITICAL)  # supress rdkit warnings"
   ]
  },
  {
   "cell_type": "code",
   "execution_count": 2,
   "metadata": {},
   "outputs": [],
   "source": [
    "def read_file(filename):\n",
    "    \"\"\"\n",
    "    Read smiles reactions and labels. \n",
    "    \"\"\"\n",
    "    # read smiles reactions\n",
    "    smiles_rxns = []\n",
    "    labels = []\n",
    "    with open(to_path(filename), 'r') as f:\n",
    "        for line in f:\n",
    "            rxn, lb = line.strip().split()\n",
    "            smiles_rxns.append(rxn)\n",
    "            labels.append(lb)\n",
    "\n",
    "    return smiles_rxns"
   ]
  },
  {
   "cell_type": "code",
   "execution_count": 3,
   "metadata": {},
   "outputs": [],
   "source": [
    "def plot_smiles_reaction(reaction, filename):\n",
    "    \"\"\"\n",
    "    Plot a smiles reaction to file.\n",
    "    \"\"\"\n",
    "    rxn = AllChem.ReactionFromSmarts(reaction, useSmiles=True)\n",
    "    image = Chem.Draw.ReactionToImage(rxn)\n",
    "    image.save(filename)"
   ]
  },
  {
   "cell_type": "code",
   "execution_count": 4,
   "metadata": {},
   "outputs": [],
   "source": [
    "def get_bond_change(\n",
    "        reaction: str) -> Tuple[Union[str, None], Union[None, str]]:\n",
    "    \"\"\"\n",
    "    Bet bond changes of a reaction.\n",
    "    \"\"\"\n",
    "\n",
    "    # Step 1, adjust reagents\n",
    "    try:\n",
    "        rxn_smi = adjust_reagents(reaction)\n",
    "    except (MoleculeCreationError, AtomMapNumberError) as e:\n",
    "        return None, str(e).rstrip()\n",
    "\n",
    "    # Step 2, adjust atom mapping\n",
    "    try:\n",
    "        reactants_smi, reagents_smi, products_smi = rxn_smi.strip().split(\">\")\n",
    "        reactants = Chem.MolFromSmiles(reactants_smi)\n",
    "        products = Chem.MolFromSmiles(products_smi)\n",
    "        reactants, products = adjust_atom_map_number(reactants, products)\n",
    "    except AtomMapNumberError as e:\n",
    "        return None, str(e).rstrip()\n",
    "\n",
    "    # Step 3, get bond changes\n",
    "    bond_changes = get_reaction_bond_change(reactants,\n",
    "                                            products,\n",
    "                                            use_mapped_atom_index=True)\n",
    "    bond_changes = \";\".join(\n",
    "        ['-'.join([str(i) for i in x]) for x in bond_changes])\n",
    "\n",
    "    rxn = '>'.join([\n",
    "        Chem.MolToSmiles(reactants), reagents_smi,\n",
    "        Chem.MolToSmiles(products)\n",
    "    ])\n",
    "\n",
    "    return (rxn, bond_changes), None"
   ]
  },
  {
   "cell_type": "code",
   "execution_count": 5,
   "metadata": {},
   "outputs": [],
   "source": [
    "def canonicalize_smiles_reaction(\n",
    "        reaction: str) -> Tuple[Union[str, None], Union[None, str]]:\n",
    "    \"\"\"\n",
    "    Canonicalize a smiles reaction to make reactants and products have the same\n",
    "    composition.\n",
    "\n",
    "    This ensures the reactants and products have the same composition, achieved in the\n",
    "    below steps:\n",
    "\n",
    "    1. remove reactant molecules from reactants none of their atoms are present in\n",
    "       the products\n",
    "    2. adjust atom mapping between reactants and products and add atom mapping number\n",
    "       for reactant atoms without a mapping number (although there is no corresponding\n",
    "       atom in the products)\n",
    "    3. create new products by editing the reactants: removing bonds in the reactants\n",
    "       but not in the products and adding bonds not in the reactants but in the products\n",
    "\n",
    "    Args:\n",
    "        reaction: smiles representation of a reaction\n",
    "\n",
    "    Returns:\n",
    "        reaction: canonicalized smiles reaction, `None` if canonicalize failed\n",
    "        error: error message, `None` if canonicalize succeed\n",
    "    \"\"\"\n",
    "\n",
    "    # Step 1, adjust reagents\n",
    "    try:\n",
    "        rxn_smi = adjust_reagents(reaction)\n",
    "    except (MoleculeCreationError, AtomMapNumberError) as e:\n",
    "        return None, str(e).rstrip()\n",
    "\n",
    "    # Step 2, adjust atom mapping\n",
    "    try:\n",
    "        reactants_smi, reagents_smi, products_smi = rxn_smi.strip().split(\">\")\n",
    "        reactants = Chem.MolFromSmiles(reactants_smi)\n",
    "        products = Chem.MolFromSmiles(products_smi)\n",
    "        reactants, products = adjust_atom_map_number(reactants, products)\n",
    "    except AtomMapNumberError as e:\n",
    "        return None, str(e).rstrip()\n",
    "\n",
    "    # Step 3, create new products\n",
    "    try:\n",
    "        bond_changes, has_lost, has_added, _ = get_reaction_bond_change(\n",
    "            reactants, products)\n",
    "        # skip reactions only has bond type changes, but no bond lost or added\n",
    "        if not (has_lost or has_added):\n",
    "            return None, \"reactions with only bond type changes\"\n",
    "        products_atom_prop = get_atom_property_as_dict(products)\n",
    "        new_products = edit_molecule(reactants, bond_changes,\n",
    "                                     products_atom_prop)\n",
    "\n",
    "\n",
    "#    except (KekulizeException, AtomValenceException,\n",
    "#            AtomKekulizeException) as e:\n",
    "    except (KekulizeException, AtomKekulizeException) as e:\n",
    "        return None, str(e).rstrip()\n",
    "\n",
    "    # write canonicalized reaction to smiles\n",
    "    reactants_smi = Chem.MolToSmiles(set_all_H_to_explicit(reactants))\n",
    "    products_smi = Chem.MolToSmiles(set_all_H_to_explicit(new_products))\n",
    "    canoical_reaction = \">\".join([reactants_smi, reagents_smi, products_smi])\n",
    "\n",
    "    return canoical_reaction, None"
   ]
  },
  {
   "cell_type": "code",
   "execution_count": 6,
   "metadata": {},
   "outputs": [],
   "source": [
    "def runner(reactions, func, nprocs=1):\n",
    "    if nprocs == 1:\n",
    "        canonical_rxns = [func(rxn) for rxn in reactions]\n",
    "    else:\n",
    "        with multiprocessing.Pool(nprocs) as p:\n",
    "            canonical_rxns = p.map(func, reactions)\n",
    "\n",
    "    succeeded = []\n",
    "    failed = []\n",
    "    for i, (value, error) in enumerate(canonical_rxns):\n",
    "        if error is not None:\n",
    "            failed.append((i, error))\n",
    "        else:\n",
    "            succeeded.append((i, value))\n",
    "\n",
    "    return succeeded, failed"
   ]
  },
  {
   "cell_type": "markdown",
   "metadata": {},
   "source": [
    "### read smiles reaction"
   ]
  },
  {
   "cell_type": "code",
   "execution_count": 7,
   "metadata": {},
   "outputs": [],
   "source": [
    "# filename = \"/Users/mjwen/Documents/Dataset/uspto/Jin/test.txt\"\n",
    "filename = \"/Users/mjwen/Documents/Dataset/uspto/Jin/test_n200.txt\"\n",
    "path = to_path(filename)\n",
    "smiles_rxns = read_file(filename)"
   ]
  },
  {
   "cell_type": "markdown",
   "metadata": {},
   "source": [
    "### Canonicalize the reactions"
   ]
  },
  {
   "cell_type": "code",
   "execution_count": 8,
   "metadata": {
    "scrolled": true
   },
   "outputs": [],
   "source": [
    "# NOTE, python 3.8 multiprocessing default to spawn to create process on macOS.\n",
    "# this does not work in Jupyter. So set it to `fork`.\n",
    "if __name__ == '__main__':\n",
    "    multiprocessing.set_start_method('fork', force=True)\n",
    "    succeeded, failed = runner(smiles_rxns,\n",
    "                               canonicalize_smiles_reaction,\n",
    "                               nprocs=4)"
   ]
  },
  {
   "cell_type": "code",
   "execution_count": 9,
   "metadata": {},
   "outputs": [],
   "source": [
    "# write succeeded to file\n",
    "\n",
    "fname = path.parent.joinpath(path.stem + '_succeeded' + path.suffix)\n",
    "with open(fname, 'w') as f:\n",
    "    f.write('index\\toriginal_reaction\\tcanonical_reaction\\n')\n",
    "    for i, smi in succeeded:\n",
    "        f.write(f'{i}\\t{smiles_rxns[i]}\\t{smi}\\n')\n",
    "\n",
    "#         # save iamge\n",
    "#         fname = fname = path.parent.joinpath('image', f'{i}_original' + '.png')\n",
    "#         plot_smiles_reaction(smiles_rxns[i], fname)\n",
    "#         fname = fname = path.parent.joinpath('image', f'{i}_edited' + '.png')\n",
    "#         plot_smiles_reaction(smi, fname)"
   ]
  },
  {
   "cell_type": "code",
   "execution_count": 10,
   "metadata": {},
   "outputs": [],
   "source": [
    "# write failed to file\n",
    "\n",
    "fname = path.parent.joinpath(path.stem + '_failed' + path.suffix)\n",
    "with open(fname, 'w') as f:\n",
    "    f.write('index\\toriginal_reaction\\terror\\n')\n",
    "    for i, error in failed:\n",
    "        f.write(f'{i}\\t{smiles_rxns[i]}\\t{error}\\n')"
   ]
  },
  {
   "cell_type": "markdown",
   "metadata": {},
   "source": [
    "### Write dataset for training"
   ]
  },
  {
   "cell_type": "code",
   "execution_count": 11,
   "metadata": {},
   "outputs": [],
   "source": [
    "def split_train_val_test(data: List,\n",
    "                         val_ratio=0.1,\n",
    "                         test_ratio=0.1,\n",
    "                         random_seed=35):\n",
    "    \"\"\"\n",
    "    Split dataset into training, validation, and test test.\n",
    "    \"\"\"\n",
    "    assert val_ratio + test_ratio < 1.0, \"validation + test >= 1\"\n",
    "    size = len(data)\n",
    "    num_val = int(size * val_ratio)\n",
    "    num_test = int(size * test_ratio)\n",
    "    num_train = size - num_val - num_test\n",
    "\n",
    "    if random_seed is not None:\n",
    "        np.random.seed(random_seed)\n",
    "\n",
    "    idx = np.random.permutation(size)\n",
    "    train_idx = idx[:num_train]\n",
    "    val_idx = idx[num_train:num_train + num_val]\n",
    "    test_idx = idx[num_train + num_val:]\n",
    "\n",
    "    train_set = [data[i] for i in train_idx]\n",
    "    val_set = [data[i] for i in val_idx]\n",
    "    test_set = [data[i] for i in test_idx]\n",
    "\n",
    "    return train_set, val_set, test_set\n",
    "\n",
    "\n",
    "def write_dataset_for_training(data, fname):\n",
    "    with open(fname, 'w') as f:\n",
    "        f.write('reaction\\tlabel\\n')\n",
    "        for i, smi in data:\n",
    "            label = 'to be filled'\n",
    "            f.write(f'{smi}\\t{label}\\n')"
   ]
  },
  {
   "cell_type": "code",
   "execution_count": 12,
   "metadata": {},
   "outputs": [],
   "source": [
    "# generate dataset for training\n",
    "train_set, val_set, test_set = split_train_val_test(succeeded)\n",
    "\n",
    "fname = path.parent.joinpath(path.stem + '_processed_train.tsv')\n",
    "write_dataset_for_training(train_set, fname)\n",
    "\n",
    "fname = path.parent.joinpath(path.stem + '_processed_val.tsv')\n",
    "write_dataset_for_training(train_set, fname)\n",
    "\n",
    "fname = path.parent.joinpath(path.stem + '_processed_test.tsv')\n",
    "write_dataset_for_training(train_set, fname)"
   ]
  },
  {
   "cell_type": "markdown",
   "metadata": {},
   "source": [
    "### Get changed bonds"
   ]
  },
  {
   "cell_type": "code",
   "execution_count": 13,
   "metadata": {},
   "outputs": [],
   "source": [
    "# succeeded, failed = runner(smiles_rxns, get_bond_change, nprocs=4)\n",
    "\n",
    "# # write succeeded to file\n",
    "\n",
    "# fname = path.parent.joinpath(path.stem + '_succeeded_changes' + path.suffix)\n",
    "# with open(fname, 'w') as f:\n",
    "#     f.write('index\\toriginal_reaction\\tcanonical_reaction\\tbond_change\\n')\n",
    "#     for i, (rxn, bond_change) in succeeded:\n",
    "#         f.write(f'{i}\\t{smiles_rxns[i]}\\t{rxn}\\t{bond_change}\\n')"
   ]
  },
  {
   "cell_type": "markdown",
   "metadata": {},
   "source": [
    "### check reactions atom mapping"
   ]
  },
  {
   "cell_type": "code",
   "execution_count": 14,
   "metadata": {},
   "outputs": [
    {
     "name": "stdout",
     "output_type": "stream",
     "text": [
      "Reactants and products in all reactions are mapped.\n",
      "Done!\n"
     ]
    }
   ],
   "source": [
    "mapped = check_all_reactions_atom_mapped(smiles_rxns,\n",
    "                                         nprocs=6,\n",
    "                                         print_result=True)"
   ]
  },
  {
   "cell_type": "code",
   "execution_count": 15,
   "metadata": {},
   "outputs": [
    {
     "name": "stdout",
     "output_type": "stream",
     "text": [
      "Total number of reactions: 200; reactions having bonds both atoms not mapped: 0; having bonds one atom not mapped  0; molecules cannot be converted: 0.\n",
      "Done!\n"
     ]
    }
   ],
   "source": [
    "mapped = check_all_reactions_bonds_mapped(smiles_rxns,\n",
    "                                          nprocs=6,\n",
    "                                          print_result=True)"
   ]
  },
  {
   "cell_type": "code",
   "execution_count": null,
   "metadata": {},
   "outputs": [],
   "source": []
  }
 ],
 "metadata": {
  "kernelspec": {
   "display_name": "Python 3",
   "language": "python",
   "name": "python3"
  },
  "language_info": {
   "codemirror_mode": {
    "name": "ipython",
    "version": 3
   },
   "file_extension": ".py",
   "mimetype": "text/x-python",
   "name": "python",
   "nbconvert_exporter": "python",
   "pygments_lexer": "ipython3",
   "version": "3.8.5"
  }
 },
 "nbformat": 4,
 "nbformat_minor": 2
}
