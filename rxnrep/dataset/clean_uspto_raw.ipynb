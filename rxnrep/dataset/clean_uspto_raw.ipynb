{
 "cells": [
  {
   "cell_type": "markdown",
   "metadata": {},
   "source": [
    "# Clean the raw USPTO dataset \n",
    "\n",
    "The raw dataset can be obtained from https://doi.org/10.6084/m9.figshare.5104873  \n"
   ]
  },
  {
   "cell_type": "code",
   "execution_count": 1,
   "metadata": {},
   "outputs": [],
   "source": [
    "import multiprocessing\n",
    "import numpy as np\n",
    "import pandas as pd\n",
    "from typing import Union, Tuple, List\n",
    "\n",
    "from rdkit import Chem\n",
    "from rdkit import RDLogger\n",
    "from rdkit.Chem import AllChem\n",
    "\n",
    "from rxnrep.dataset.uspto_utils import (\n",
    "    check_all_reactions_atom_mapped,\n",
    "    check_all_reactions_bonds_mapped,\n",
    "    adjust_reagents,\n",
    "    adjust_atom_map_number,\n",
    "    get_reaction_bond_change,\n",
    "    MoleculeCreationError,\n",
    "    AtomMapNumberError,\n",
    "    canonicalize_smiles_reaction,\n",
    "    canonicalize_smiles_reaction_by_adding_nonexist_atoms_and_bonds,\n",
    ")\n",
    "from rxnrep.core.molecule import MoleculeError\n",
    "from rxnrep.core.reaction import smiles_to_reaction, ReactionError\n",
    "from rxnrep.utils import to_path\n",
    "\n",
    "RDLogger.logger().setLevel(RDLogger.CRITICAL)  # supress rdkit warnings"
   ]
  },
  {
   "cell_type": "code",
   "execution_count": 2,
   "metadata": {},
   "outputs": [],
   "source": [
    "def read_file(filename):\n",
    "    \"\"\"\n",
    "    Read smiles reactions and labels. \n",
    "    \"\"\"\n",
    "    # read smiles reactions\n",
    "    df = pd.read_csv(filename, sep=\"\\t\")\n",
    "    smiles_rxns = df[\"ReactionSmiles\"].values.tolist()\n",
    "    # remove the part in f||, like f|0.1.2|\n",
    "    smiles_rxns = [s.split()[0] for s in smiles_rxns]\n",
    "\n",
    "    return smiles_rxns"
   ]
  },
  {
   "cell_type": "code",
   "execution_count": 3,
   "metadata": {},
   "outputs": [],
   "source": [
    "def plot_smiles_reaction(reaction, filename):\n",
    "    \"\"\"\n",
    "    Plot a smiles reaction to file.\n",
    "    \"\"\"\n",
    "    rxn = AllChem.ReactionFromSmarts(reaction, useSmiles=True)\n",
    "    image = Chem.Draw.ReactionToImage(rxn)\n",
    "    image.save(filename)"
   ]
  },
  {
   "cell_type": "code",
   "execution_count": 4,
   "metadata": {},
   "outputs": [],
   "source": [
    "def runner(reactions, func, nprocs=1):\n",
    "    \"\"\"\n",
    "    Run with multiprocess. \n",
    "    \"\"\"\n",
    "    if nprocs == 1:\n",
    "        canonical_rxns = [func(rxn) for rxn in reactions]\n",
    "    else:\n",
    "        with multiprocessing.Pool(nprocs) as p:\n",
    "            canonical_rxns = p.map(func, reactions)\n",
    "\n",
    "    succeeded = []\n",
    "    failed = []\n",
    "    for i, (value, error) in enumerate(canonical_rxns):\n",
    "        if error is not None:\n",
    "            failed.append((i, error))\n",
    "        else:\n",
    "            succeeded.append((i, value))\n",
    "\n",
    "    return succeeded, failed"
   ]
  },
  {
   "cell_type": "markdown",
   "metadata": {},
   "source": [
    "### read smiles reaction"
   ]
  },
  {
   "cell_type": "code",
   "execution_count": 5,
   "metadata": {},
   "outputs": [],
   "source": [
    "# filename = \"/Users/mjwen/Documents/Dataset/uspto/raw/2001_Sep2016_USPTOapplications_smiles.rsmi\"\n",
    "# filename = \"/Users/mjwen/Documents/Dataset/uspto/raw/2001_Sep2016_USPTOapplications_smiles_n200.rsmi\"\n",
    "filename = \"/Users/mjwen/Documents/Dataset/uspto/raw/2001_Sep2016_USPTOapplications_smiles_n200.rsmi\"\n",
    "path = to_path(filename)\n",
    "smiles_rxns = read_file(filename)"
   ]
  },
  {
   "cell_type": "markdown",
   "metadata": {},
   "source": [
    "### Canonicalize the reactions"
   ]
  },
  {
   "cell_type": "code",
   "execution_count": 6,
   "metadata": {
    "scrolled": true
   },
   "outputs": [
    {
     "name": "stdout",
     "output_type": "stream",
     "text": [
      "number succeeded: 180\n",
      "number failed 20\n"
     ]
    }
   ],
   "source": [
    "# NOTE, python 3.8 multiprocessing default to spawn to create process on macOS.\n",
    "# this does not work in Jupyter. So set it to `fork`.\n",
    "if __name__ == \"__main__\":\n",
    "    multiprocessing.set_start_method(\"fork\", force=True)\n",
    "    succeeded, failed = runner(\n",
    "        smiles_rxns,\n",
    "        # canonicalize_smiles_reaction,\n",
    "        canonicalize_smiles_reaction_by_adding_nonexist_atoms_and_bonds,\n",
    "        nprocs=4,\n",
    "    )\n",
    "\n",
    "print(\"number succeeded:\", len(succeeded))\n",
    "print(\"number failed\", len(failed))"
   ]
  },
  {
   "cell_type": "code",
   "execution_count": 7,
   "metadata": {},
   "outputs": [],
   "source": [
    "# write succeeded to file\n",
    "\n",
    "fname = path.parent.joinpath(path.stem + \"_succeeded\" + path.suffix)\n",
    "with open(fname, \"w\") as f:\n",
    "    f.write(\"index\\toriginal_reaction\\tcanonical_reaction\\n\")\n",
    "    for i, smi in succeeded:\n",
    "        f.write(f\"{i}\\t{smiles_rxns[i]}\\t{smi}\\n\")\n",
    "\n",
    "#         # save iamge\n",
    "#         fname = fname = path.parent.joinpath('image', f'{i}_original' + '.png')\n",
    "#         plot_smiles_reaction(smiles_rxns[i], fname)\n",
    "#         fname = fname = path.parent.joinpath('image', f'{i}_edited' + '.png')\n",
    "#         plot_smiles_reaction(smi, fname)"
   ]
  },
  {
   "cell_type": "code",
   "execution_count": 8,
   "metadata": {},
   "outputs": [],
   "source": [
    "# write failed to file\n",
    "\n",
    "fname = path.parent.joinpath(path.stem + \"_failed\" + path.suffix)\n",
    "with open(fname, \"w\") as f:\n",
    "    f.write(\"index\\toriginal_reaction\\terror\\n\")\n",
    "    for i, error in failed:\n",
    "        f.write(f\"{i}\\t{smiles_rxns[i]}\\t{error}\\n\")"
   ]
  },
  {
   "cell_type": "markdown",
   "metadata": {},
   "source": [
    "### write dataset for training "
   ]
  },
  {
   "cell_type": "code",
   "execution_count": 9,
   "metadata": {},
   "outputs": [],
   "source": [
    "def split_train_val_test(data: List, val_ratio=0.1, test_ratio=0.1, random_seed=35):\n",
    "    \"\"\"\n",
    "    Split dataset into training, validation, and test test.\n",
    "    \"\"\"\n",
    "    assert val_ratio + test_ratio < 1.0, \"validation + test >= 1\"\n",
    "    size = len(data)\n",
    "    num_val = int(size * val_ratio)\n",
    "    num_test = int(size * test_ratio)\n",
    "    num_train = size - num_val - num_test\n",
    "\n",
    "    if random_seed is not None:\n",
    "        np.random.seed(random_seed)\n",
    "\n",
    "    idx = np.random.permutation(size)\n",
    "    train_idx = idx[:num_train]\n",
    "    val_idx = idx[num_train : num_train + num_val]\n",
    "    test_idx = idx[num_train + num_val :]\n",
    "\n",
    "    train_set = [data[i] for i in train_idx]\n",
    "    val_set = [data[i] for i in val_idx]\n",
    "    test_set = [data[i] for i in test_idx]\n",
    "\n",
    "    return train_set, val_set, test_set\n",
    "\n",
    "\n",
    "def write_dataset_for_training(data, fname):\n",
    "    with open(fname, \"w\") as f:\n",
    "        f.write(\"reaction\\tlabel\\n\")\n",
    "        for i, smi in data:\n",
    "            label = None\n",
    "            f.write(f\"{smi}\\t{label}\\n\")"
   ]
  },
  {
   "cell_type": "code",
   "execution_count": 10,
   "metadata": {},
   "outputs": [],
   "source": [
    "# generate dataset for training\n",
    "train_set, val_set, test_set = split_train_val_test(succeeded)\n",
    "\n",
    "tr_fname = path.parent.joinpath(path.stem + \"_processed_train.tsv\")\n",
    "write_dataset_for_training(train_set, tr_fname)\n",
    "\n",
    "val_fname = path.parent.joinpath(path.stem + \"_processed_val.tsv\")\n",
    "write_dataset_for_training(val_set, val_fname)\n",
    "\n",
    "te_fname = path.parent.joinpath(path.stem + \"_processed_test.tsv\")\n",
    "write_dataset_for_training(test_set, te_fname)"
   ]
  },
  {
   "cell_type": "markdown",
   "metadata": {},
   "source": [
    "### Check that smiles can be converted to core reactions "
   ]
  },
  {
   "cell_type": "code",
   "execution_count": 11,
   "metadata": {},
   "outputs": [
    {
     "name": "stdout",
     "output_type": "stream",
     "text": [
      "\n",
      "Training set:\n",
      "\n",
      "Val set:\n",
      "\n",
      "Test set:\n"
     ]
    }
   ],
   "source": [
    "def convert_one(smi):\n",
    "    try:\n",
    "        rxn = smiles_to_reaction(smi, smi, ignore_reagents=True, sanity_check=True)\n",
    "        return rxn, None\n",
    "    except (MoleculeError, ReactionError) as e:\n",
    "        return None, str(e)\n",
    "\n",
    "\n",
    "def check_reactions(filename):\n",
    "    df = pd.read_csv(filename, sep=\"\\t\")\n",
    "    smiles_reactions = df[\"reaction\"].tolist()\n",
    "    succeeded, failed = runner(smiles_reactions, convert_one, nprocs=4)\n",
    "    for i, e in failed:\n",
    "        if e is not None:\n",
    "\n",
    "            # do not show the ones does not balance charge (it happens)\n",
    "            if \"The sum of reactant charges\" in e:\n",
    "                continue\n",
    "\n",
    "            print(i, e)\n",
    "\n",
    "\n",
    "if __name__ == \"__main__\":\n",
    "    print(\"\\nTraining set:\")\n",
    "    check_reactions(tr_fname)\n",
    "    print(\"\\nVal set:\")\n",
    "    check_reactions(val_fname)\n",
    "    print(\"\\nTest set:\")\n",
    "    check_reactions(te_fname)"
   ]
  },
  {
   "cell_type": "code",
   "execution_count": null,
   "metadata": {},
   "outputs": [],
   "source": []
  }
 ],
 "metadata": {
  "kernelspec": {
   "display_name": "Python 3",
   "language": "python",
   "name": "python3"
  },
  "language_info": {
   "codemirror_mode": {
    "name": "ipython",
    "version": 3
   },
   "file_extension": ".py",
   "mimetype": "text/x-python",
   "name": "python",
   "nbconvert_exporter": "python",
   "pygments_lexer": "ipython3",
   "version": "3.8.5"
  }
 },
 "nbformat": 4,
 "nbformat_minor": 4
}
