{
 "cells": [
  {
   "cell_type": "code",
   "execution_count": 1,
   "metadata": {},
   "outputs": [],
   "source": [
    "from pymatgen.entries.mol_entry import MoleculeEntry, MoleculeEntryError\n",
    "from atomate.qchem.database import QChemCalcDb\n",
    "from monty.serialization import dumpfn, loadfn\n",
    "\n",
    "from rxnrep.dataset.electrolyte_utils import check_species, check_connectivity, \\\n",
    "    check_bond_species, check_bond_length, check_num_bonds, check_bad_rdkit_molecule, \\\n",
    "    remove_high_energy_entries\n",
    "\n",
    "from typing import List"
   ]
  },
  {
   "cell_type": "code",
   "execution_count": 2,
   "metadata": {},
   "outputs": [],
   "source": [
    "def get_db_num_entries(db_file):\n",
    "    db = QChemCalcDb.from_db_file(db_file, admin=True)\n",
    "    return db.collection.count_documents({})"
   ]
  },
  {
   "cell_type": "code",
   "execution_count": 3,
   "metadata": {},
   "outputs": [],
   "source": [
    "def query_db_entries(db_file,\n",
    "                     num_entries: int = None,\n",
    "                     environment: str = None):\n",
    "    \"\"\"\n",
    "    Query the molecule document database to pull all the molecules form molecule builder.\n",
    "\n",
    "    Args:\n",
    "        db_file: path to a json file storing credentials of the database\n",
    "        num_entries (int): the number of entries to query, if `None`, get all.\n",
    "        environment: query value for the environment key in the db. e.g. `smd_thf`. if `None`, ignore it.\n",
    "        \n",
    "    Returns:\n",
    "        A list of molecule document entries.\n",
    "    \"\"\"\n",
    "\n",
    "    num_entries = 0 if num_entries is None else num_entries\n",
    "    query = {} if environment is None else {\"environment\": environment}\n",
    "\n",
    "    db = QChemCalcDb.from_db_file(db_file, admin=True)\n",
    "    cursor = db.collection.find(query,\n",
    "                                no_cursor_timeout=True).limit(num_entries)\n",
    "    entries = [i for i in cursor]\n",
    "\n",
    "    cursor.close()\n",
    "\n",
    "    return entries"
   ]
  },
  {
   "cell_type": "code",
   "execution_count": 4,
   "metadata": {},
   "outputs": [],
   "source": [
    "def filter_mol_entries(entries:List[MoleculeEntry], verbose=False)->List[MoleculeEntry]:\n",
    "    \"\"\"\n",
    "    Filter out some `bad` molecules. \n",
    "    \"\"\"\n",
    "\n",
    "    not_allowed_species = ['P']\n",
    "\n",
    "    succeeded = []\n",
    "    for i, m in enumerate(entries):\n",
    "        \n",
    "        # remove mols having atoms not connected to others \n",
    "        fail, comment = check_connectivity(m)\n",
    "        if fail:\n",
    "            if verbose:\n",
    "                print(i, comment)\n",
    "            continue\n",
    "        \n",
    "        # remove mols with specific species\n",
    "        fail, comment = check_species(m, species=not_allowed_species)\n",
    "        if fail:\n",
    "            if verbose:\n",
    "                print(i, comment)\n",
    "            continue\n",
    "\n",
    "        # remove mols with specific bond between species, e.g. Li-H\n",
    "        fail, comment = check_bond_species(m)\n",
    "        if fail:\n",
    "            if verbose:\n",
    "                print(i, comment)\n",
    "            continue\n",
    "\n",
    "        # remove mols with larger bond length\n",
    "        fail, comment = check_bond_length(m)\n",
    "        if fail:\n",
    "            if verbose:\n",
    "                print(i, comment)\n",
    "            continue\n",
    "\n",
    "        # remove mols with unexpected number of bonds (e.g. more than 4 bonds for carbon),\n",
    "        # excluding metal species\n",
    "        fail, comment = check_num_bonds(m)\n",
    "        if fail:\n",
    "            if verbose:\n",
    "                print(i, comment)\n",
    "            continue\n",
    "\n",
    "        # remove mols that cannot be converted to rdkit mol\n",
    "        fail, comment = check_bad_rdkit_molecule(m)\n",
    "        if fail:\n",
    "            if verbose:\n",
    "                print(i, comment)\n",
    "            continue\n",
    "\n",
    "        succeeded.append(m)\n",
    "\n",
    "    # for molecules with the same isomorphism and charge, remove the ones with higher free energy\n",
    "    print('Number of entries before removing isomorphic ones:', len(succeeded))\n",
    "    succeeded = remove_high_energy_entries(succeeded)\n",
    "    print('Number of entries after removing isomorphic ones:', len(succeeded))\n",
    "\n",
    "    return succeeded"
   ]
  },
  {
   "cell_type": "markdown",
   "metadata": {},
   "source": [
    "### Query db to get molecule documents "
   ]
  },
  {
   "cell_type": "code",
   "execution_count": 5,
   "metadata": {},
   "outputs": [
    {
     "data": {
      "text/plain": [
       "16718"
      ]
     },
     "execution_count": 5,
     "metadata": {},
     "output_type": "execute_result"
    }
   ],
   "source": [
    "db_file = \"/Users/mjwen/Applications/db_access/sam_db/sam_db_mol_builder.json\"\n",
    "get_db_num_entries(db_file)"
   ]
  },
  {
   "cell_type": "code",
   "execution_count": 6,
   "metadata": {},
   "outputs": [],
   "source": [
    "#num_entries = 2000\n",
    "num_entries = None\n",
    "mol_docs = query_db_entries(db_file, num_entries)"
   ]
  },
  {
   "cell_type": "markdown",
   "metadata": {},
   "source": [
    "### dump to file "
   ]
  },
  {
   "cell_type": "code",
   "execution_count": 7,
   "metadata": {},
   "outputs": [
    {
     "name": "stdout",
     "output_type": "stream",
     "text": [
      "Number of mol doc failed to be converted to mol entry: 64\n",
      "Number of mol entries before filting: 16654\n"
     ]
    },
    {
     "name": "stderr",
     "output_type": "stream",
     "text": [
      "RDKit ERROR: [15:41:19] Explicit valence for atom # 3 C, 5, is greater than permitted\n",
      "RDKit ERROR: [15:41:52] Explicit valence for atom # 2 C, 5, is greater than permitted\n",
      "RDKit ERROR: [15:42:09] Explicit valence for atom # 3 C, 5, is greater than permitted\n"
     ]
    },
    {
     "name": "stdout",
     "output_type": "stream",
     "text": [
      "Number of entries before removing isomorphic ones: 13116\n",
      "Number of entries after removing isomorphic ones: 7288\n",
      "Number of mol entries after filting: 7288\n"
     ]
    }
   ],
   "source": [
    "num_failed = 0\n",
    "mol_entries = []\n",
    "for doc in mol_docs:\n",
    "    try:\n",
    "        entry = MoleculeEntry.from_molecule_document(doc)\n",
    "        mol_entries.append(entry)\n",
    "    except MoleculeEntryError:\n",
    "        num_failed += 1\n",
    "print('Number of mol doc failed to be converted to mol entry:', num_failed)\n",
    "\n",
    "# filter\n",
    "print('Number of mol entries before filting:', len(mol_entries))\n",
    "mol_entries = filter_mol_entries(mol_entries, verbose=False)\n",
    "print('Number of mol entries after filting:', len(mol_entries))\n",
    "\n",
    "# dump to file\n",
    "fname = f'/Users/mjwen/Documents/Dataset/rxnrep/mol_entries_n{num_entries}.json'\n",
    "dumpfn(mol_entries, fname)"
   ]
  },
  {
   "cell_type": "code",
   "execution_count": null,
   "metadata": {},
   "outputs": [],
   "source": []
  }
 ],
 "metadata": {
  "kernelspec": {
   "display_name": "Python 3",
   "language": "python",
   "name": "python3"
  },
  "language_info": {
   "codemirror_mode": {
    "name": "ipython",
    "version": 3
   },
   "file_extension": ".py",
   "mimetype": "text/x-python",
   "name": "python",
   "nbconvert_exporter": "python",
   "pygments_lexer": "ipython3",
   "version": "3.8.5"
  }
 },
 "nbformat": 4,
 "nbformat_minor": 4
}
