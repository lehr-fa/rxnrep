{
 "cells": [
  {
   "cell_type": "markdown",
   "metadata": {},
   "source": [
    "# Clean the raw USPTO dataset \n",
    "\n",
    "The raw dataset can be obtained from https://doi.org/10.6084/m9.figshare.5104873  \n"
   ]
  },
  {
   "cell_type": "code",
   "execution_count": 1,
   "metadata": {},
   "outputs": [],
   "source": [
    "import multiprocessing\n",
    "import pandas as pd\n",
    "from rdkit import Chem\n",
    "from rdkit.Chem import AllChem\n",
    "from rxnrep.dataset.rdkit_utils import (\n",
    "    check_all_reactions_atom_mapped, check_all_reactions_bonds_mapped,\n",
    "    adjust_reagents, adjust_atom_map_number, get_reaction_bond_change,\n",
    "    set_all_H_to_explicit, edit_molecule, MoleculeCreationError,\n",
    "    AtomMapNumberError, get_atom_property_as_dict)\n",
    "from rxnrep.utils import to_path\n",
    "from rdkit import RDLogger\n",
    "from rdkit.Chem import KekulizeException, AtomValenceException, AtomKekulizeException\n",
    "from typing import Union, Tuple\n",
    "\n",
    "RDLogger.logger().setLevel(RDLogger.CRITICAL)  # supress rdkit warnings"
   ]
  },
  {
   "cell_type": "code",
   "execution_count": 2,
   "metadata": {},
   "outputs": [],
   "source": [
    "def read_file(filename):\n",
    "    \"\"\"\n",
    "    Read smiles reactions and labels. \n",
    "    \"\"\"\n",
    "    # read smiles reactions\n",
    "    df = pd.read_csv(filename, sep=\"\\t\")\n",
    "    smiles_rxns = df[\"ReactionSmiles\"].values.tolist()\n",
    "    # remove the part in f||, like f|0.1.2|\n",
    "    smiles_rxns = [s.split()[0] for s in smiles_rxns]\n",
    "\n",
    "    return smiles_rxns"
   ]
  },
  {
   "cell_type": "code",
   "execution_count": 3,
   "metadata": {},
   "outputs": [],
   "source": [
    "def plot_smiles_reaction(reaction, filename):\n",
    "    \"\"\"\n",
    "    Plot a smiles reaction to file.\n",
    "    \"\"\"\n",
    "    rxn = AllChem.ReactionFromSmarts(reaction, useSmiles=True)\n",
    "    image = Chem.Draw.ReactionToImage(rxn)\n",
    "    image.save(filename)"
   ]
  },
  {
   "cell_type": "code",
   "execution_count": 4,
   "metadata": {},
   "outputs": [],
   "source": [
    "def get_bond_change(\n",
    "        reaction: str) -> Tuple[Union[str, None], Union[None, str]]:\n",
    "    \"\"\"\n",
    "    Bet bond changes of a reaction.\n",
    "    \"\"\"\n",
    "\n",
    "    # Step 1, adjust reagents\n",
    "    try:\n",
    "        rxn_smi = adjust_reagents(reaction)\n",
    "    except (MoleculeCreationError, AtomMapNumberError) as e:\n",
    "        return None, str(e).rstrip()\n",
    "\n",
    "    # Step 2, adjust atom mapping\n",
    "    try:\n",
    "        reactants_smi, reagents_smi, products_smi = rxn_smi.strip().split(\">\")\n",
    "        reactants = Chem.MolFromSmiles(reactants_smi)\n",
    "        products = Chem.MolFromSmiles(products_smi)\n",
    "        reactants, products = adjust_atom_map_number(reactants, products)\n",
    "    except AtomMapNumberError as e:\n",
    "        return None, str(e).rstrip()\n",
    "\n",
    "    # Step 3, get bond changes\n",
    "    bond_changes = get_reaction_bond_change(reactants,\n",
    "                                            products,\n",
    "                                            use_mapped_atom_index=True)\n",
    "    bond_changes = \";\".join(\n",
    "        ['-'.join([str(i) for i in x]) for x in bond_changes])\n",
    "\n",
    "    rxn = '>'.join([\n",
    "        Chem.MolToSmiles(reactants), reagents_smi,\n",
    "        Chem.MolToSmiles(products)\n",
    "    ])\n",
    "\n",
    "    return (rxn, bond_changes), None"
   ]
  },
  {
   "cell_type": "code",
   "execution_count": 5,
   "metadata": {},
   "outputs": [],
   "source": [
    "def canonicalize_smiles_reaction(\n",
    "        reaction: str) -> Tuple[Union[str, None], Union[None, str]]:\n",
    "    \"\"\"\n",
    "    Canonicalize a smiles reaction to make reactants and products have the same\n",
    "    composition.\n",
    "\n",
    "    This ensures the reactants and products have the same composition, achieved in the\n",
    "    below steps:\n",
    "\n",
    "    1. remove reactant molecules from reactants none of their atoms are present in\n",
    "       the products\n",
    "    2. adjust atom mapping between reactants and products and add atom mapping number\n",
    "       for reactant atoms without a mapping number (although there is no corresponding\n",
    "       atom in the products)\n",
    "    3. create new products by editing the reactants: removing bonds in the reactants\n",
    "       but not in the products and adding bonds not in the reactants but in the products\n",
    "\n",
    "    Args:\n",
    "        reaction: smiles representation of a reaction\n",
    "\n",
    "    Returns:\n",
    "        reaction: canonicalized smiles reaction, `None` if canonicalize failed\n",
    "        error: error message, `None` if canonicalize succeed\n",
    "    \"\"\"\n",
    "\n",
    "    # Step 1, adjust reagents\n",
    "    try:\n",
    "        rxn_smi = adjust_reagents(reaction)\n",
    "    except (MoleculeCreationError, AtomMapNumberError) as e:\n",
    "        return None, str(e).rstrip()\n",
    "\n",
    "    # Step 2, adjust atom mapping\n",
    "    try:\n",
    "        reactants_smi, reagents_smi, products_smi = rxn_smi.strip().split(\">\")\n",
    "        reactants = Chem.MolFromSmiles(reactants_smi)\n",
    "        products = Chem.MolFromSmiles(products_smi)\n",
    "        reactants, products = adjust_atom_map_number(reactants, products)\n",
    "    except AtomMapNumberError as e:\n",
    "        return None, str(e).rstrip()\n",
    "\n",
    "    # Step 3, create new products\n",
    "    try:\n",
    "        bond_changes = get_reaction_bond_change(reactants, products)\n",
    "        products_atom_prop = get_atom_property_as_dict(products)\n",
    "        new_products = edit_molecule(reactants, bond_changes,\n",
    "                                     products_atom_prop)\n",
    "    except (KekulizeException, AtomValenceException,\n",
    "            AtomKekulizeException) as e:\n",
    "        return None, str(e).rstrip()\n",
    "\n",
    "    # write canonicalized reaction to smiles\n",
    "    reactants_smi = Chem.MolToSmiles(set_all_H_to_explicit(reactants))\n",
    "    products_smi = Chem.MolToSmiles(set_all_H_to_explicit(new_products))\n",
    "    canoical_reaction = \">\".join([reactants_smi, reagents_smi, products_smi])\n",
    "\n",
    "    return canoical_reaction, None"
   ]
  },
  {
   "cell_type": "code",
   "execution_count": 6,
   "metadata": {},
   "outputs": [],
   "source": [
    "def runner(reactions, func, nprocs=1):\n",
    "    if nprocs == 1:\n",
    "        canonical_rxns = [func(rxn) for rxn in reactions]\n",
    "    else:\n",
    "        with multiprocessing.Pool(nprocs) as p:\n",
    "            canonical_rxns = p.map(func, reactions)\n",
    "\n",
    "    succeeded = []\n",
    "    failed = []\n",
    "    for i, (value, error) in enumerate(canonical_rxns):\n",
    "        if error is not None:\n",
    "            failed.append((i, error))\n",
    "        else:\n",
    "            succeeded.append((i, value))\n",
    "\n",
    "    return succeeded, failed"
   ]
  },
  {
   "cell_type": "markdown",
   "metadata": {},
   "source": [
    "### read smiles reaction"
   ]
  },
  {
   "cell_type": "code",
   "execution_count": 7,
   "metadata": {},
   "outputs": [],
   "source": [
    "#filename = \"/Users/mjwen/Documents/Dataset/uspto/raw/2001_Sep2016_USPTOapplications_smiles.rsmi\"\n",
    "#filename = \"/Users/mjwen/Documents/Dataset/uspto/raw/2001_Sep2016_USPTOapplications_smiles_n200.rsmi\"\n",
    "filename = '/Users/mjwen/Documents/Dataset/uspto/raw/2001_Sep2016_USPTOapplications_smiles_n200.rsmi'\n",
    "path = to_path(filename)\n",
    "smiles_rxns = read_file(filename)"
   ]
  },
  {
   "cell_type": "markdown",
   "metadata": {},
   "source": [
    "### Canonicalize the reactions"
   ]
  },
  {
   "cell_type": "code",
   "execution_count": 8,
   "metadata": {
    "scrolled": true
   },
   "outputs": [],
   "source": [
    "# NOTE, python 3.8 multiprocessing default to spawn to create process on macOS.\n",
    "# this does not work in Jupyter. So set it to `fork`.\n",
    "if __name__ == '__main__':\n",
    "    multiprocessing.set_start_method('fork', force=True)\n",
    "    succeeded, failed = runner(smiles_rxns,\n",
    "                               canonicalize_smiles_reaction,\n",
    "                               nprocs=4)"
   ]
  },
  {
   "cell_type": "code",
   "execution_count": 9,
   "metadata": {},
   "outputs": [],
   "source": [
    "# write succeeded to file\n",
    "\n",
    "fname = path.parent.joinpath(path.stem + '_succeeded' + path.suffix)\n",
    "with open(fname, 'w') as f:\n",
    "    f.write('index\\toriginal_reaction\\tcanonical_reaction\\n')\n",
    "    for i, smi in succeeded:\n",
    "        f.write(f'{i}\\t{smiles_rxns[i]}\\t{smi}\\n')\n",
    "\n",
    "#         # save iamge\n",
    "#         fname = fname = path.parent.joinpath('image', f'{i}_original' + '.png')\n",
    "#         plot_smiles_reaction(smiles_rxns[i], fname)\n",
    "#         fname = fname = path.parent.joinpath('image', f'{i}_edited' + '.png')\n",
    "#         plot_smiles_reaction(smi, fname)"
   ]
  },
  {
   "cell_type": "code",
   "execution_count": 10,
   "metadata": {},
   "outputs": [],
   "source": [
    "# write failed to file\n",
    "\n",
    "fname = path.parent.joinpath(path.stem + '_failed' + path.suffix)\n",
    "with open(fname, 'w') as f:\n",
    "    f.write('index\\toriginal_reaction\\terror\\n')\n",
    "    for i, error in failed:\n",
    "        f.write(f'{i}\\t{smiles_rxns[i]}\\t{error}\\n')"
   ]
  },
  {
   "cell_type": "code",
   "execution_count": 11,
   "metadata": {},
   "outputs": [],
   "source": [
    "# generate dataset for training\n",
    "\n",
    "fname = path.parent.joinpath(path.stem + '_processed.tsv')\n",
    "with open(fname, 'w') as f:\n",
    "    f.write('reaction\\tlabel\\n')\n",
    "    for i, smi in succeeded:\n",
    "        label = 'to be filled'\n",
    "        f.write(f'{smi}\\t{label}\\n')"
   ]
  },
  {
   "cell_type": "markdown",
   "metadata": {},
   "source": [
    "### Get changed bonds"
   ]
  },
  {
   "cell_type": "code",
   "execution_count": 12,
   "metadata": {},
   "outputs": [],
   "source": [
    "# succeeded, failed = runner(smiles_rxns, get_bond_change, nprocs=4)\n",
    "\n",
    "# # write succeeded to file\n",
    "\n",
    "# fname = path.parent.joinpath(path.stem + '_succeeded_changes' + path.suffix)\n",
    "# with open(fname, 'w') as f:\n",
    "#     f.write('index\\toriginal_reaction\\tcanonical_reaction\\tbond_change\\n')\n",
    "#     for i, (rxn, bond_change) in succeeded:\n",
    "#         f.write(f'{i}\\t{smiles_rxns[i]}\\t{rxn}\\t{bond_change}\\n')"
   ]
  },
  {
   "cell_type": "markdown",
   "metadata": {},
   "source": [
    "### check reactions atom mapping"
   ]
  },
  {
   "cell_type": "code",
   "execution_count": 13,
   "metadata": {},
   "outputs": [],
   "source": [
    "# mapped = check_all_reactions_atom_mapped(smiles_rxns,\n",
    "#                                          nprocs=6,\n",
    "#                                          print_result=True)"
   ]
  },
  {
   "cell_type": "code",
   "execution_count": 14,
   "metadata": {},
   "outputs": [],
   "source": [
    "# mapped = check_all_reactions_bonds_mapped(smiles_rxns,\n",
    "#                                          nprocs=6,\n",
    "#                                          print_result=True)"
   ]
  }
 ],
 "metadata": {
  "kernelspec": {
   "display_name": "Python 3",
   "language": "python",
   "name": "python3"
  },
  "language_info": {
   "codemirror_mode": {
    "name": "ipython",
    "version": 3
   },
   "file_extension": ".py",
   "mimetype": "text/x-python",
   "name": "python",
   "nbconvert_exporter": "python",
   "pygments_lexer": "ipython3",
   "version": "3.8.5"
  }
 },
 "nbformat": 4,
 "nbformat_minor": 2
}
