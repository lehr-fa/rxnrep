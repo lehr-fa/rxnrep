{
 "cells": [
  {
   "cell_type": "markdown",
   "metadata": {},
   "source": [
    "# Clean the Schneider USPTO 50K dataset \n",
    "\n",
    "This is a dataset with reaction class labels, given in [Development of a Novel Fingerprint for Chemical Reactions and Its Application to Large-Scale Reaction Classification and Similarity](https://pubs.acs.org/doi/10.1021/ci5006614)\n",
    "\n",
    "\n",
    "This dastaset is also used in [Mapping the Space of Chemical Reactions using Attention-Based Neural Networks](https://doi.org/10.26434/chemrxiv.9897365)\n",
    "\n",
    "The dataset can be obtained from: https://github.com/rxn4chemistry/rxnfp/tree/master/data\n",
    "\n",
    "We remove out reactions that:\n",
    "\n",
    "- charge is not conserved between reactants and products\n",
    "- atom mapping between reactants and products is problematic (each atom in the reactants and products should be mapped once and only once)\n"
   ]
  },
  {
   "cell_type": "code",
   "execution_count": 7,
   "metadata": {},
   "outputs": [],
   "source": [
    "import pandas as pd\n",
    "import multiprocessing\n",
    "from rdkit.Chem import Mol\n",
    "from collections import defaultdict\n",
    "from typing import List, Tuple, Dict\n",
    "from rxnrep.core.molecule import Molecule, MoleculeCreationError\n",
    "from rxnrep.core.reaction import Reaction, smiles_to_reaction, ReactionError\n",
    "from rxnrep.dataset.rdkit_utils import get_reaction_atom_mapping\n",
    "from rxnrep.utils import to_path\n",
    "from rdkit import RDLogger\n",
    "\n",
    "RDLogger.logger().setLevel(RDLogger.CRITICAL)  # supress rdkit warnings"
   ]
  },
  {
   "cell_type": "code",
   "execution_count": 8,
   "metadata": {},
   "outputs": [],
   "source": [
    "def process_one_reaction(rxn, id=None):\n",
    "    \"\"\"\n",
    "    Process reaction smiles to create Reaction and check their correctness.  \n",
    "    \"\"\"\n",
    "\n",
    "    # set it to string such that it has the same dtype when errors out or not\n",
    "    error = 'None'\n",
    "    try:\n",
    "        # create reaction\n",
    "        reaction = smiles_to_reaction(rxn, id)\n",
    "\n",
    "        # check composition \n",
    "        # if composition check fails, it is highly likely charge and atom mapping check will fail\n",
    "        reaction.check_composition()\n",
    "\n",
    "        # check charge\n",
    "        reaction.check_charge()\n",
    "\n",
    "        # create and check atom mapping\n",
    "        reactants_rdkit_mol = [m.rdkit_mol for m in reaction.reactants]\n",
    "        products_rdkit_mol = [m.rdkit_mol for m in reaction.products]\n",
    "        mapping = get_reaction_atom_mapping(reactants_rdkit_mol,\n",
    "                                            products_rdkit_mol)\n",
    "        # atom mapping check will called automatically when setting it\n",
    "        reaction.set_atom_mapping(mapping)\n",
    "\n",
    "    except (MoleculeCreationError, ReactionError) as e:\n",
    "        reaction = None\n",
    "        error = str(e)\n",
    "\n",
    "    return reaction, error"
   ]
  },
  {
   "cell_type": "code",
   "execution_count": 9,
   "metadata": {},
   "outputs": [],
   "source": [
    "def filter_out_bad_reactions(filename, nprocs=1):\n",
    "    \"\"\"\n",
    "    Read reactions give in smiles format.\n",
    "\n",
    "    Returns:\n",
    "         succeeded: list of three-tuple (index, smiles, rxn)\n",
    "         failed: list of three-tuple (index, smiles, error)\n",
    "    \"\"\"\n",
    "\n",
    "    print('Start to read smiles string', flush=True)\n",
    "\n",
    "    # read smiles reactions\n",
    "    df = pd.read_csv(filename, sep=\"\\t\")\n",
    "    smiles_rxns = df[\"original_rxn\"].values.tolist()\n",
    "\n",
    "    print('Start to convert to reactions', flush=True)\n",
    "\n",
    "    if nprocs == 1:\n",
    "        reactions = [\n",
    "            process_one_reaction(r, i) for i, r in enumerate(smiles_rxns)\n",
    "        ]\n",
    "    else:\n",
    "        ids = list(range(len(smiles_rxns)))\n",
    "        with multiprocessing.Pool(processes=nprocs) as p:\n",
    "            reactions = p.starmap(process_one_reaction, zip(smiles_rxns, ids))\n",
    "\n",
    "    print('Start to group succeeded and failed reactions', flush=True)\n",
    "\n",
    "    succeeded = []\n",
    "    failed = []\n",
    "    for i, (rxn, error) in enumerate(reactions):\n",
    "        if rxn is not None:\n",
    "            succeeded.append((i, smiles_rxns[i], rxn))\n",
    "        else:\n",
    "            failed.append((i, smiles_rxns[i], error))\n",
    "\n",
    "    return succeeded, failed"
   ]
  },
  {
   "cell_type": "markdown",
   "metadata": {},
   "source": [
    "## Get the succeeded and failed reactions"
   ]
  },
  {
   "cell_type": "code",
   "execution_count": 10,
   "metadata": {
    "tags": []
   },
   "outputs": [
    {
     "name": "stdout",
     "output_type": "stream",
     "text": [
      "Start to read smiles string\n",
      "Start to convert to reactions\n",
      "Start to group succeeded and failed reactions\n"
     ]
    }
   ],
   "source": [
    "filename = \"/Users/mjwen/Documents/Dataset/uspto/Schneider50k/schneider50k.tsv\"\n",
    "path = to_path(filename)\n",
    "succeeded_rxns, failed_rxns = filter_out_bad_reactions(path, 4)"
   ]
  },
  {
   "cell_type": "markdown",
   "metadata": {},
   "source": [
    "### Write succeeded reactions to file"
   ]
  },
  {
   "cell_type": "code",
   "execution_count": 11,
   "metadata": {
    "tags": []
   },
   "outputs": [],
   "source": [
    "fname = path.parent.joinpath(path.stem + '_succeeded' + path.suffix)\n",
    "with open(fname, 'w') as f:\n",
    "    f.write('index\\tsmiles\\n')\n",
    "    for i, smi, _ in succeeded_rxns:\n",
    "        f.write(f'{i}\\t{smi}\\n')"
   ]
  },
  {
   "cell_type": "markdown",
   "metadata": {},
   "source": [
    "### Write failed reactions to file"
   ]
  },
  {
   "cell_type": "code",
   "execution_count": 12,
   "metadata": {
    "tags": []
   },
   "outputs": [
    {
     "name": "stdout",
     "output_type": "stream",
     "text": [
      "Failed reason statistics: defaultdict(<class 'int'>, {'composition': 48310, 'atom_mapping': 31, 'charge': 13})\n"
     ]
    }
   ],
   "source": [
    "fname = path.parent.joinpath(path.stem + '_failed' + path.suffix)\n",
    "\n",
    "failed_keywords = ['composition', 'charge', 'atom_mapping']\n",
    "failed_reason = defaultdict(int)\n",
    "\n",
    "with open(fname, 'w') as f:\n",
    "    f.write('index\\tsmiles\\tfailed_reason\\n')\n",
    "    for i, smi, error in failed_rxns:\n",
    "        f.write(f'{i}\\t{smi}\\t{error}\\n')\n",
    "\n",
    "        for kw in failed_keywords:\n",
    "            if kw in error:\n",
    "                failed_reason[kw] += 1\n",
    "                break\n",
    "\n",
    "print(\"Failed reason statistics:\", failed_reason)"
   ]
  },
  {
   "cell_type": "code",
   "execution_count": null,
   "metadata": {},
   "outputs": [],
   "source": []
  }
 ],
 "metadata": {
  "kernelspec": {
   "display_name": "Python 3",
   "language": "python",
   "name": "python3"
  },
  "language_info": {
   "codemirror_mode": {
    "name": "ipython",
    "version": 3
   },
   "file_extension": ".py",
   "mimetype": "text/x-python",
   "name": "python",
   "nbconvert_exporter": "python",
   "pygments_lexer": "ipython3",
   "version": "3.7.4"
  }
 },
 "nbformat": 4,
 "nbformat_minor": 2
}
