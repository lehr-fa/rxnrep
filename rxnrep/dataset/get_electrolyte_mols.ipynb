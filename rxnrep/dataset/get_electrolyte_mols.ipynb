{
 "cells": [
  {
   "cell_type": "code",
   "execution_count": 1,
   "metadata": {},
   "outputs": [],
   "source": [
    "from pymatgen.entries.mol_entry import MoleculeEntry\n",
    "from atomate.qchem.database import QChemCalcDb\n",
    "from monty.serialization import dumpfn, loadfn\n",
    "\n",
    "from rxnrep.dataset.electrolyte_utils import check_species, \\\n",
    "    check_bond_species, check_bond_length, check_connectivity, check_bad_rdkit_molecule"
   ]
  },
  {
   "cell_type": "code",
   "execution_count": 2,
   "metadata": {},
   "outputs": [],
   "source": [
    "def get_db_num_entries(db_file):\n",
    "    db = QChemCalcDb.from_db_file(db_file, admin=True)\n",
    "    return db.collection.count_documents({})"
   ]
  },
  {
   "cell_type": "code",
   "execution_count": 3,
   "metadata": {},
   "outputs": [],
   "source": [
    "def query_db_entries(db_file,\n",
    "                     num_entries: int = None,\n",
    "                     environment: str = None):\n",
    "    \"\"\"\n",
    "    Query the molecule document database to pull all the molecules form molecule builder.\n",
    "\n",
    "    Args:\n",
    "        db_file: path to a json file storing credentials of the database\n",
    "        num_entries (int): the number of entries to query, if `None`, get all.\n",
    "        environment: query value for the environment key in the db. e.g. `smd_thf`. if `None`, ignore it.\n",
    "        \n",
    "    Returns:\n",
    "        A list of molecule document entries.\n",
    "    \"\"\"\n",
    "\n",
    "    num_entries = 0 if num_entries is None else num_entries\n",
    "    query = {} if environment is None else {\"environment\": environment}\n",
    "\n",
    "    db = QChemCalcDb.from_db_file(db_file, admin=True)\n",
    "    cursor = db.collection.find(query,\n",
    "                                no_cursor_timeout=True).limit(num_entries)\n",
    "    entries = [i for i in cursor]\n",
    "\n",
    "    cursor.close()\n",
    "\n",
    "    return entries"
   ]
  },
  {
   "cell_type": "code",
   "execution_count": 4,
   "metadata": {},
   "outputs": [],
   "source": [
    "def filter_mol_entries(entries, verbose=False):\n",
    "    \"\"\"\n",
    "    Filter out some `bad` molecules. \n",
    "    \"\"\"\n",
    "\n",
    "    not_allowed_species = ['P']\n",
    "\n",
    "    succeeded = []\n",
    "    for i, m in enumerate(entries):\n",
    "        fail, comment = check_species(m, species=not_allowed_species)\n",
    "        if fail:\n",
    "            if verbose:\n",
    "                print(i, comment)\n",
    "            continue\n",
    "\n",
    "        fail, comment = check_bond_species(m)\n",
    "        if fail:\n",
    "            if verbose:\n",
    "                print(i, comment)\n",
    "            continue\n",
    "\n",
    "        fail, comment = check_bond_length(m)\n",
    "        if fail:\n",
    "            if verbose:\n",
    "                print(i, comment)\n",
    "            continue\n",
    "\n",
    "        fail, comment = check_connectivity(m)\n",
    "        if fail:\n",
    "            if verbose:\n",
    "                print(i, comment)\n",
    "            continue\n",
    "\n",
    "        fail, comment = check_bad_rdkit_molecule(m)\n",
    "        if fail:\n",
    "            if verbose:\n",
    "                print(i, comment)\n",
    "            continue\n",
    "\n",
    "        succeeded.append(m)\n",
    "\n",
    "    return succeeded"
   ]
  },
  {
   "cell_type": "markdown",
   "metadata": {},
   "source": [
    "### Query db to get molecule documents "
   ]
  },
  {
   "cell_type": "code",
   "execution_count": 5,
   "metadata": {},
   "outputs": [
    {
     "data": {
      "text/plain": [
       "16718"
      ]
     },
     "execution_count": 5,
     "metadata": {},
     "output_type": "execute_result"
    }
   ],
   "source": [
    "db_file = \"/Users/mjwen/Applications/db_access/sam_db/sam_db_mol_builder.json\"\n",
    "get_db_num_entries(db_file)"
   ]
  },
  {
   "cell_type": "code",
   "execution_count": 6,
   "metadata": {},
   "outputs": [],
   "source": [
    "mol_docs = query_db_entries(db_file, num_entries=200)"
   ]
  },
  {
   "cell_type": "markdown",
   "metadata": {},
   "source": [
    "### dump to file "
   ]
  },
  {
   "cell_type": "code",
   "execution_count": 7,
   "metadata": {},
   "outputs": [
    {
     "name": "stdout",
     "output_type": "stream",
     "text": [
      "Number of mol entries before filting: 200\n",
      "Number of mol entries after filting: 172\n"
     ]
    }
   ],
   "source": [
    "fname = '/Users/mjwen/Documents/Dataset/rxnrep/mol_entries_n200.json'\n",
    "mol_entries = [MoleculeEntry.from_molecule_document(d) for d in mol_docs]\n",
    "\n",
    "# filter\n",
    "print('Number of mol entries before filting:', len(mol_entries))\n",
    "mol_entries = filter_mol_entries(mol_entries, verbose=False)\n",
    "print('Number of mol entries after filting:', len(mol_entries))\n",
    "\n",
    "# dump to file\n",
    "dumpfn(mol_entries, fname)"
   ]
  },
  {
   "cell_type": "code",
   "execution_count": null,
   "metadata": {},
   "outputs": [],
   "source": []
  }
 ],
 "metadata": {
  "kernelspec": {
   "display_name": "Python 3",
   "language": "python",
   "name": "python3"
  },
  "language_info": {
   "codemirror_mode": {
    "name": "ipython",
    "version": 3
   },
   "file_extension": ".py",
   "mimetype": "text/x-python",
   "name": "python",
   "nbconvert_exporter": "python",
   "pygments_lexer": "ipython3",
   "version": "3.8.5"
  }
 },
 "nbformat": 4,
 "nbformat_minor": 4
}
