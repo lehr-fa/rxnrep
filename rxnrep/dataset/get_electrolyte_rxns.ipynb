{
 "cells": [
  {
   "cell_type": "markdown",
   "metadata": {},
   "source": [
    "# Extreact reactions from mol entries"
   ]
  },
  {
   "cell_type": "code",
   "execution_count": 1,
   "metadata": {},
   "outputs": [],
   "source": [
    "import numpy as np\n",
    "from pymatgen.reaction_network.reaction import bucket_mol_entries, unbucket_mol_entries\n",
    "from pymatgen.reaction_network.reaction import IntramolSingleBondChangeReaction, IntermolecularReaction\n",
    "from monty.serialization import dumpfn, loadfn"
   ]
  },
  {
   "cell_type": "markdown",
   "metadata": {},
   "source": [
    "### Load molecule entries "
   ]
  },
  {
   "cell_type": "code",
   "execution_count": 2,
   "metadata": {},
   "outputs": [
    {
     "name": "stdout",
     "output_type": "stream",
     "text": [
      "number of mol entries loaded: 862\n"
     ]
    }
   ],
   "source": [
    "num_entries = 2000\n",
    "#num_entries = None\n",
    "fname = f'/Users/mjwen/Documents/Dataset/rxnrep/mol_entries_n{num_entries}.json'\n",
    "\n",
    "mol_entries = loadfn(fname)\n",
    "\n",
    "print('number of mol entries loaded:', len(mol_entries))"
   ]
  },
  {
   "cell_type": "markdown",
   "metadata": {},
   "source": [
    "### Intra-molecular bond breaking reactions, i.e. A->B"
   ]
  },
  {
   "cell_type": "code",
   "execution_count": 3,
   "metadata": {},
   "outputs": [
    {
     "name": "stderr",
     "output_type": "stream",
     "text": [
      "/Users/mjwen/Applications/pymatgen/pymatgen/reaction_network/reaction.py:2759: FutureWarning: Nbonds is deprecated\n",
      "`Nbonds` is replaced by `num_bonds`. This will be removed shortly.\n",
      "  v = getattr(m, k)\n",
      "/Users/mjwen/Applications/pymatgen/pymatgen/reaction_network/reaction.py:682: FutureWarning: edges is deprecated\n",
      "`edges` is replaced by `bonds`. This will be removed shortly.\n",
      "  for edge in entry1.edges:\n"
     ]
    },
    {
     "data": {
      "text/plain": [
       "71"
      ]
     },
     "execution_count": 3,
     "metadata": {},
     "output_type": "execute_result"
    }
   ],
   "source": [
    "buckets = bucket_mol_entries(mol_entries)\n",
    "intra_mol_reactions, _ = IntramolSingleBondChangeReaction.generate(buckets)\n",
    "len(intra_mol_reactions)"
   ]
  },
  {
   "cell_type": "markdown",
   "metadata": {},
   "source": [
    "### Inter-molecular bond breaking reactions, i.e. A->B+C"
   ]
  },
  {
   "cell_type": "code",
   "execution_count": 4,
   "metadata": {},
   "outputs": [
    {
     "name": "stderr",
     "output_type": "stream",
     "text": [
      "/Users/mjwen/Applications/pymatgen/pymatgen/reaction_network/reaction.py:968: FutureWarning: edges is deprecated\n",
      "`edges` is replaced by `bonds`. This will be removed shortly.\n",
      "  for edge in entry.edges:\n"
     ]
    },
    {
     "data": {
      "text/plain": [
       "36"
      ]
     },
     "execution_count": 4,
     "metadata": {},
     "output_type": "execute_result"
    }
   ],
   "source": [
    "buckets = bucket_mol_entries(mol_entries)\n",
    "inter_mol_reactions, _ = IntermolecularReaction.generate(buckets)\n",
    "len(inter_mol_reactions)"
   ]
  },
  {
   "cell_type": "markdown",
   "metadata": {},
   "source": [
    "### write reactions to file (pymatgen reactions)"
   ]
  },
  {
   "cell_type": "code",
   "execution_count": 5,
   "metadata": {},
   "outputs": [],
   "source": [
    "def split_train_val_test(data,\n",
    "                         val_ratio=0.1,\n",
    "                         test_ratio=0.1,\n",
    "                         random_seed=35):\n",
    "    \"\"\"\n",
    "    Split dataset into training, validation, and test test.\n",
    "    \"\"\"\n",
    "    assert val_ratio + test_ratio < 1.0, \"validation + test >= 1\"\n",
    "    size = len(data)\n",
    "    num_val = int(size * val_ratio)\n",
    "    num_test = int(size * test_ratio)\n",
    "    num_train = size - num_val - num_test\n",
    "\n",
    "    if random_seed is not None:\n",
    "        np.random.seed(random_seed)\n",
    "\n",
    "    idx = np.random.permutation(size)\n",
    "    train_idx = idx[:num_train]\n",
    "    val_idx = idx[num_train:num_train + num_val]\n",
    "    test_idx = idx[num_train + num_val:]\n",
    "\n",
    "    train_set = [data[i] for i in train_idx]\n",
    "    val_set = [data[i] for i in val_idx]\n",
    "    test_set = [data[i] for i in test_idx]\n",
    "\n",
    "    return train_set, val_set, test_set\n",
    "\n",
    "\n",
    "reactions = intra_mol_reactions + inter_mol_reactions\n",
    "train_set, val_set, test_set = split_train_val_test(reactions)\n",
    "\n",
    "\n",
    "fname = f'/Users/mjwen/Documents/Dataset/rxnrep/reactions_n{num_entries}_train.json'\n",
    "dumpfn(train_set, fname)\n",
    "\n",
    "fname = f'/Users/mjwen/Documents/Dataset/rxnrep/reactions_n{num_entries}_val.json'\n",
    "dumpfn(val_set, fname)\n",
    "\n",
    "fname = f'/Users/mjwen/Documents/Dataset/rxnrep/reactions_n{num_entries}_test.json'\n",
    "dumpfn(test_set, fname)"
   ]
  },
  {
   "cell_type": "code",
   "execution_count": null,
   "metadata": {},
   "outputs": [],
   "source": []
  }
 ],
 "metadata": {
  "kernelspec": {
   "display_name": "Python 3",
   "language": "python",
   "name": "python3"
  },
  "language_info": {
   "codemirror_mode": {
    "name": "ipython",
    "version": 3
   },
   "file_extension": ".py",
   "mimetype": "text/x-python",
   "name": "python",
   "nbconvert_exporter": "python",
   "pygments_lexer": "ipython3",
   "version": "3.8.5"
  }
 },
 "nbformat": 4,
 "nbformat_minor": 4
}
